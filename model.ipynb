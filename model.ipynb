{
 "cells": [
  {
   "cell_type": "code",
   "execution_count": 1,
   "metadata": {},
   "outputs": [],
   "source": [
    "import tensorflow as tf\n",
    "from tensorflow.keras import layers\n",
    "from tensorflow.keras.preprocessing.image import img_to_array, load_img\n",
    "from sklearn.model_selection import train_test_split\n",
    "\n",
    "import numpy as np\n",
    "import pandas as pd"
   ]
  },
  {
   "cell_type": "code",
   "execution_count": 2,
   "metadata": {},
   "outputs": [],
   "source": [
    "# Constantes\n",
    "HEIGHT = 256\n",
    "WIDTH = 256\n",
    "CHANNELS = 3\n",
    "NUM_EPOCHS = 5\n",
    "NUM_CLASS = 2\n",
    "tamaño_lote = 32"
   ]
  },
  {
   "cell_type": "code",
   "execution_count": 4,
   "metadata": {},
   "outputs": [],
   "source": [
    "# Cargar el archivo CSV\n",
    "df = pd.read_csv('./data/image_data.csv')\n",
    "\n",
    "# Obtener las rutas de las imágenes y las etiquetas correspondientes\n",
    "image_paths = ['./data/cleaned_images/' + name for name in df['name']]\n",
    "labels = df['category']"
   ]
  },
  {
   "cell_type": "code",
   "execution_count": 5,
   "metadata": {},
   "outputs": [],
   "source": [
    "# Crear listas vacías para almacenar las imágenes y las etiquetas preprocesadas\n",
    "processed_images = []\n",
    "processed_labels = []\n",
    "\n",
    "# Recorrer las rutas de las imágenes\n",
    "for image_path, label in zip(image_paths, labels):\n",
    "    # Cargar la imagen\n",
    "    image = load_img(image_path, target_size=(HEIGHT, WIDTH))\n",
    "    # Convertir la imagen a un arreglo NumPy\n",
    "    image_array = img_to_array(image)\n",
    "    # Normalizar los valores de los píxeles entre 0 y 1\n",
    "    image_array /= 255.0\n",
    "    # Agregar la imagen preprocesada y la etiqueta a las listas correspondientes\n",
    "    processed_images.append(image_array)\n",
    "    processed_labels.append(label)\n",
    "\n",
    "# Convertir las listas a arreglos NumPy\n",
    "processed_images = np.array(processed_images)\n",
    "processed_labels = np.array(processed_labels)"
   ]
  },
  {
   "cell_type": "code",
   "execution_count": 6,
   "metadata": {},
   "outputs": [],
   "source": [
    "# Definir el modelo CNN\n",
    "def crear_modelo_cnn():\n",
    "    \"\"\"\n",
    "    altura: Representa la altura de las imágenes que se utilizarán como entrada para el modelo CNN. \n",
    "    Debes definir este valor según las dimensiones de tus imágenes.\n",
    "\n",
    "    anchura: Representa la anchura de las imágenes que se utilizarán como entrada para el modelo CNN. \n",
    "    Debes definir este valor según las dimensiones de tus imágenes.\n",
    "\n",
    "    canales: Representa el número de canales de las imágenes que se utilizarán como entrada para el modelo CNN. \n",
    "    Si las imágenes son en escala de grises, el valor típico es 1. Si las imágenes son en color (RGB), el valor típico es 3 (uno para cada canal de rojo, verde y azul).\n",
    "\n",
    "    num_clases: Representa el número de clases o categorías diferentes a las que deseas clasificar tus imágenes. \n",
    "    Debes definir este valor según la cantidad de clases que tienes en tu conjunto de datos.\n",
    "    \"\"\"\n",
    "    modelo = tf.keras.Sequential()\n",
    "    \n",
    "    # Capa convolucional 1\n",
    "    modelo.add(layers.Conv2D(32, (3, 3), activation='relu', input_shape=(HEIGHT, WIDTH, CHANNELS)))\n",
    "    modelo.add(layers.MaxPooling2D((2, 2)))\n",
    "    \n",
    "    # Capa convolucional 2\n",
    "    modelo.add(layers.Conv2D(64, (3, 3), activation='relu'))\n",
    "    modelo.add(layers.MaxPooling2D((2, 2)))\n",
    "    \n",
    "    # Capa convolucional 3\n",
    "    modelo.add(layers.Conv2D(128, (3, 3), activation='relu'))\n",
    "    modelo.add(layers.MaxPooling2D((2, 2)))\n",
    "    \n",
    "    # Capa completamente conectada\n",
    "    modelo.add(layers.Flatten())\n",
    "    modelo.add(layers.Dense(128, activation='relu'))\n",
    "    modelo.add(layers.Dense(NUM_CLASS, activation='softmax'))\n",
    "    \n",
    "    return modelo"
   ]
  },
  {
   "cell_type": "code",
   "execution_count": 7,
   "metadata": {},
   "outputs": [],
   "source": [
    "# Crear el modelo\n",
    "modelo = crear_modelo_cnn()\n",
    "\n",
    "# Compilar el modelo\n",
    "modelo.compile(optimizer='adam',\n",
    "               loss=tf.keras.losses.SparseCategoricalCrossentropy(from_logits=True),\n",
    "               metrics=['accuracy'])"
   ]
  },
  {
   "cell_type": "code",
   "execution_count": 8,
   "metadata": {},
   "outputs": [],
   "source": [
    "# Dividir los datos en conjuntos de entrenamiento y prueba\n",
    "datos_entrenamiento, datos_prueba, etiquetas_entrenamiento, etiquetas_prueba = train_test_split(\n",
    "    processed_images, processed_labels, test_size=0.2, random_state=42)"
   ]
  },
  {
   "cell_type": "code",
   "execution_count": 12,
   "metadata": {},
   "outputs": [],
   "source": [
    "etiquetas_entrenamiento = np.where(etiquetas_entrenamiento == 'buena', 0, 1)\n",
    "etiquetas_prueba = np.where(etiquetas_prueba == 'buena', 0, 1)"
   ]
  },
  {
   "cell_type": "code",
   "execution_count": 14,
   "metadata": {},
   "outputs": [
    {
     "data": {
      "text/plain": [
       "array([0, 0, 0, 0, 1, 0, 0, 0, 1, 0])"
      ]
     },
     "execution_count": 14,
     "metadata": {},
     "output_type": "execute_result"
    }
   ],
   "source": [
    "etiquetas_prueba"
   ]
  },
  {
   "cell_type": "code",
   "execution_count": 15,
   "metadata": {},
   "outputs": [
    {
     "name": "stdout",
     "output_type": "stream",
     "text": [
      "Epoch 1/5\n",
      "2/2 [==============================] - 1s 100ms/step - loss: 1.4784 - accuracy: 0.3684\n",
      "Epoch 2/5\n",
      "2/2 [==============================] - 1s 99ms/step - loss: 1.1996 - accuracy: 0.4474\n",
      "Epoch 3/5\n",
      "2/2 [==============================] - 1s 96ms/step - loss: 1.0688 - accuracy: 0.7368\n",
      "Epoch 4/5\n",
      "2/2 [==============================] - 1s 100ms/step - loss: 0.4717 - accuracy: 0.7632\n",
      "Epoch 5/5\n",
      "2/2 [==============================] - 1s 100ms/step - loss: 0.3935 - accuracy: 0.8684\n"
     ]
    },
    {
     "data": {
      "text/plain": [
       "<keras.src.callbacks.History at 0x29e0d6200>"
      ]
     },
     "execution_count": 15,
     "metadata": {},
     "output_type": "execute_result"
    }
   ],
   "source": [
    "# Entrenar el modelo\n",
    "modelo.fit(datos_entrenamiento, etiquetas_entrenamiento, epochs=NUM_EPOCHS, batch_size=tamaño_lote)"
   ]
  },
  {
   "cell_type": "code",
   "execution_count": 16,
   "metadata": {},
   "outputs": [
    {
     "name": "stdout",
     "output_type": "stream",
     "text": [
      "1/1 [==============================] - 0s 116ms/step - loss: 0.7796 - accuracy: 0.8000\n",
      "Pérdida: 0.779556155204773\n",
      "Precisión: 0.800000011920929\n"
     ]
    }
   ],
   "source": [
    "# Evaluar el modelo\n",
    "pérdida, precisión = modelo.evaluate(datos_prueba, etiquetas_prueba)\n",
    "print('Pérdida:', pérdida)\n",
    "print('Precisión:', precisión)\n",
    "\n",
    "# Utilizar el modelo para hacer predicciones\n",
    "#predicciones = modelo.predict(datos_nuevas_imagenes)\n",
    "#etiqueta_predicha = etiquetas_clases[np.argmax(predicciones)]\n",
    "#print('Etiqueta predicha:', etiqueta_predicha)"
   ]
  }
 ],
 "metadata": {
  "kernelspec": {
   "display_name": "dataScience",
   "language": "python",
   "name": "python3"
  },
  "language_info": {
   "codemirror_mode": {
    "name": "ipython",
    "version": 3
   },
   "file_extension": ".py",
   "mimetype": "text/x-python",
   "name": "python",
   "nbconvert_exporter": "python",
   "pygments_lexer": "ipython3",
   "version": "3.10.9"
  },
  "orig_nbformat": 4
 },
 "nbformat": 4,
 "nbformat_minor": 2
}
