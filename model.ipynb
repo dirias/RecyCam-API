{
 "cells": [
  {
   "cell_type": "code",
   "execution_count": 1,
   "metadata": {},
   "outputs": [],
   "source": [
    "import tensorflow as tf\n",
    "from tensorflow.keras import layers\n",
    "from tensorflow.keras.preprocessing.image import img_to_array, load_img\n",
    "from sklearn.metrics import f1_score\n",
    "from sklearn.model_selection import train_test_split\n",
    "import tensorflowjs as tfjs\n",
    "\n",
    "import numpy as np\n",
    "import pandas as pd"
   ]
  },
  {
   "cell_type": "code",
   "execution_count": 2,
   "metadata": {},
   "outputs": [],
   "source": [
    "# Constantes\n",
    "HEIGHT = 512\n",
    "WIDTH = 512\n",
    "CHANNELS = 3\n",
    "NUM_EPOCHS = 8\n",
    "NUM_CLASS = 2\n",
    "tamaño_lote = 32"
   ]
  },
  {
   "cell_type": "code",
   "execution_count": 3,
   "metadata": {},
   "outputs": [],
   "source": [
    "# Cargar el archivo CSV\n",
    "df = pd.read_csv('./data/image_data.csv')\n",
    "\n",
    "# Obtener las rutas de las imágenes y las etiquetas correspondientes\n",
    "image_paths = ['./data/cleaned_images/' + name for name in df['name']]\n",
    "labels = df['category']"
   ]
  },
  {
   "cell_type": "code",
   "execution_count": 4,
   "metadata": {},
   "outputs": [
    {
     "data": {
      "text/html": [
       "<div>\n",
       "<style scoped>\n",
       "    .dataframe tbody tr th:only-of-type {\n",
       "        vertical-align: middle;\n",
       "    }\n",
       "\n",
       "    .dataframe tbody tr th {\n",
       "        vertical-align: top;\n",
       "    }\n",
       "\n",
       "    .dataframe thead th {\n",
       "        text-align: right;\n",
       "    }\n",
       "</style>\n",
       "<table border=\"1\" class=\"dataframe\">\n",
       "  <thead>\n",
       "    <tr style=\"text-align: right;\">\n",
       "      <th></th>\n",
       "      <th>name</th>\n",
       "      <th>category</th>\n",
       "    </tr>\n",
       "  </thead>\n",
       "  <tbody>\n",
       "    <tr>\n",
       "      <th>0</th>\n",
       "      <td>can_aceptable_12.jpg</td>\n",
       "      <td>aceptable</td>\n",
       "    </tr>\n",
       "    <tr>\n",
       "      <th>1</th>\n",
       "      <td>plastic_no_aceptable_11.jpg</td>\n",
       "      <td>no</td>\n",
       "    </tr>\n",
       "    <tr>\n",
       "      <th>2</th>\n",
       "      <td>plastic_no_aceptable_39.jpg</td>\n",
       "      <td>no</td>\n",
       "    </tr>\n",
       "    <tr>\n",
       "      <th>3</th>\n",
       "      <td>plastic_aceptable_43.jpg</td>\n",
       "      <td>aceptable</td>\n",
       "    </tr>\n",
       "    <tr>\n",
       "      <th>4</th>\n",
       "      <td>can_no_aceptable_48.jpg</td>\n",
       "      <td>no</td>\n",
       "    </tr>\n",
       "    <tr>\n",
       "      <th>...</th>\n",
       "      <td>...</td>\n",
       "      <td>...</td>\n",
       "    </tr>\n",
       "    <tr>\n",
       "      <th>334</th>\n",
       "      <td>plastic_no_aceptable_20.jpg</td>\n",
       "      <td>no</td>\n",
       "    </tr>\n",
       "    <tr>\n",
       "      <th>335</th>\n",
       "      <td>plastic_aceptable_7.jpg</td>\n",
       "      <td>aceptable</td>\n",
       "    </tr>\n",
       "    <tr>\n",
       "      <th>336</th>\n",
       "      <td>plastic_no_aceptable_34.jpg</td>\n",
       "      <td>no</td>\n",
       "    </tr>\n",
       "    <tr>\n",
       "      <th>337</th>\n",
       "      <td>can_aceptable_23.jpg</td>\n",
       "      <td>aceptable</td>\n",
       "    </tr>\n",
       "    <tr>\n",
       "      <th>338</th>\n",
       "      <td>can_aceptable_37.jpg</td>\n",
       "      <td>aceptable</td>\n",
       "    </tr>\n",
       "  </tbody>\n",
       "</table>\n",
       "<p>339 rows × 2 columns</p>\n",
       "</div>"
      ],
      "text/plain": [
       "                            name   category\n",
       "0           can_aceptable_12.jpg  aceptable\n",
       "1    plastic_no_aceptable_11.jpg         no\n",
       "2    plastic_no_aceptable_39.jpg         no\n",
       "3       plastic_aceptable_43.jpg  aceptable\n",
       "4        can_no_aceptable_48.jpg         no\n",
       "..                           ...        ...\n",
       "334  plastic_no_aceptable_20.jpg         no\n",
       "335      plastic_aceptable_7.jpg  aceptable\n",
       "336  plastic_no_aceptable_34.jpg         no\n",
       "337         can_aceptable_23.jpg  aceptable\n",
       "338         can_aceptable_37.jpg  aceptable\n",
       "\n",
       "[339 rows x 2 columns]"
      ]
     },
     "execution_count": 4,
     "metadata": {},
     "output_type": "execute_result"
    }
   ],
   "source": [
    "df"
   ]
  },
  {
   "cell_type": "code",
   "execution_count": 5,
   "metadata": {},
   "outputs": [],
   "source": [
    "# Crear listas vacías para almacenar las imágenes y las etiquetas preprocesadas\n",
    "processed_images = []\n",
    "processed_labels = []\n",
    "\n",
    "# Recorrer las rutas de las imágenes\n",
    "for image_path, label in zip(image_paths, labels):\n",
    "    # Cargar la imagen\n",
    "    image = load_img(image_path, target_size=(HEIGHT, WIDTH))\n",
    "    # Convertir la imagen a un arreglo NumPy\n",
    "    image_array = img_to_array(image)\n",
    "    # Normalizar los valores de los píxeles entre 0 y 1\n",
    "    image_array /= 255.0\n",
    "    # Agregar la imagen preprocesada y la etiqueta a las listas correspondientes\n",
    "    processed_images.append(image_array)\n",
    "    processed_labels.append(label)\n",
    "\n",
    "# Convertir las listas a arreglos NumPy\n",
    "processed_images = np.array(processed_images)\n",
    "processed_labels = np.array(processed_labels)"
   ]
  },
  {
   "cell_type": "code",
   "execution_count": 6,
   "metadata": {},
   "outputs": [],
   "source": [
    "# Definir el modelo CNN\n",
    "def crear_modelo_cnn():\n",
    "    \"\"\"\n",
    "    altura: Representa la altura de las imágenes que se utilizarán como entrada para el modelo CNN. \n",
    "    Debes definir este valor según las dimensiones de tus imágenes.\n",
    "\n",
    "    anchura: Representa la anchura de las imágenes que se utilizarán como entrada para el modelo CNN. \n",
    "    Debes definir este valor según las dimensiones de tus imágenes.\n",
    "\n",
    "    canales: Representa el número de canales de las imágenes que se utilizarán como entrada para el modelo CNN. \n",
    "    Si las imágenes son en escala de grises, el valor típico es 1. Si las imágenes son en color (RGB), el valor típico es 3 (uno para cada canal de rojo, verde y azul).\n",
    "\n",
    "    num_clases: Representa el número de clases o categorías diferentes a las que deseas clasificar tus imágenes. \n",
    "    Debes definir este valor según la cantidad de clases que tienes en tu conjunto de datos.\n",
    "    \"\"\"\n",
    "    modelo = tf.keras.Sequential()\n",
    "    \n",
    "    # Capa convolucional 1\n",
    "    modelo.add(layers.Conv2D(32, (3, 3), activation='relu', input_shape=(HEIGHT, WIDTH, CHANNELS)))\n",
    "    modelo.add(layers.MaxPooling2D((2, 2)))\n",
    "    \n",
    "    # Capa convolucional 2\n",
    "    modelo.add(layers.Conv2D(64, (3, 3), activation='relu'))\n",
    "    modelo.add(layers.MaxPooling2D((2, 2)))\n",
    "    \n",
    "    # Capa convolucional 3\n",
    "    modelo.add(layers.Conv2D(128, (3, 3), activation='relu'))\n",
    "    modelo.add(layers.MaxPooling2D((2, 2)))\n",
    "    \n",
    "    # Capa completamente conectada\n",
    "    modelo.add(layers.Flatten())\n",
    "    modelo.add(layers.Dense(128, activation='relu'))\n",
    "    modelo.add(layers.Dense(NUM_CLASS, activation='softmax'))\n",
    "    \n",
    "    return modelo"
   ]
  },
  {
   "cell_type": "code",
   "execution_count": 7,
   "metadata": {},
   "outputs": [],
   "source": [
    "# Crear el modelo\n",
    "modelo = crear_modelo_cnn()\n",
    "\n",
    "# Compilar el modelo\n",
    "\n",
    "\n",
    "modelo.compile(optimizer='adam',\n",
    "               loss=tf.keras.losses.SparseCategoricalCrossentropy(from_logits=True),\n",
    "               metrics=['accuracy'])"
   ]
  },
  {
   "cell_type": "code",
   "execution_count": 8,
   "metadata": {},
   "outputs": [],
   "source": [
    "# Dividir los datos en conjuntos de entrenamiento y prueba\n",
    "\n",
    "datos_entrenamiento, datos_prueba, etiquetas_entrenamiento, etiquetas_prueba = train_test_split(\n",
    "    processed_images, processed_labels, test_size=0.2, random_state=42)"
   ]
  },
  {
   "cell_type": "code",
   "execution_count": 9,
   "metadata": {},
   "outputs": [
    {
     "data": {
      "text/plain": [
       "array(['no', 'no', 'no', 'aceptable', 'aceptable', 'aceptable', 'no',\n",
       "       'no', 'no', 'aceptable', 'no', 'aceptable', 'no', 'no',\n",
       "       'aceptable', 'no', 'no', 'no', 'no', 'no', 'no', 'no', 'no',\n",
       "       'aceptable', 'aceptable', 'no', 'aceptable', 'no', 'no', 'no',\n",
       "       'no', 'no', 'no', 'aceptable', 'no', 'no', 'aceptable', 'no',\n",
       "       'aceptable', 'no', 'aceptable', 'aceptable', 'no', 'aceptable',\n",
       "       'aceptable', 'no', 'no', 'aceptable', 'no', 'aceptable', 'no',\n",
       "       'aceptable', 'no', 'no', 'no', 'no', 'aceptable', 'no', 'no',\n",
       "       'aceptable', 'no', 'no', 'aceptable', 'no', 'no', 'no',\n",
       "       'aceptable', 'no'], dtype='<U9')"
      ]
     },
     "execution_count": 9,
     "metadata": {},
     "output_type": "execute_result"
    }
   ],
   "source": [
    "etiquetas_prueba"
   ]
  },
  {
   "cell_type": "code",
   "execution_count": 10,
   "metadata": {},
   "outputs": [],
   "source": [
    "etiquetas_entrenamiento = np.where(etiquetas_entrenamiento == 'aceptable', 1, 0)\n",
    "etiquetas_prueba = np.where(etiquetas_prueba == 'no', 1, 0)"
   ]
  },
  {
   "cell_type": "code",
   "execution_count": 11,
   "metadata": {},
   "outputs": [
    {
     "data": {
      "text/plain": [
       "array([1, 1, 1, 0, 0, 0, 1, 1, 1, 0, 1, 0, 1, 1, 0, 1, 1, 1, 1, 1, 1, 1,\n",
       "       1, 0, 0, 1, 0, 1, 1, 1, 1, 1, 1, 0, 1, 1, 0, 1, 0, 1, 0, 0, 1, 0,\n",
       "       0, 1, 1, 0, 1, 0, 1, 0, 1, 1, 1, 1, 0, 1, 1, 0, 1, 1, 0, 1, 1, 1,\n",
       "       0, 1])"
      ]
     },
     "execution_count": 11,
     "metadata": {},
     "output_type": "execute_result"
    }
   ],
   "source": [
    "etiquetas_prueba"
   ]
  },
  {
   "cell_type": "code",
   "execution_count": 12,
   "metadata": {},
   "outputs": [
    {
     "name": "stdout",
     "output_type": "stream",
     "text": [
      "Epoch 1/10\n"
     ]
    },
    {
     "name": "stderr",
     "output_type": "stream",
     "text": [
      "/opt/homebrew/Caskroom/miniconda/base/envs/dataScience/lib/python3.10/site-packages/keras/src/backend.py:5714: UserWarning: \"`sparse_categorical_crossentropy` received `from_logits=True`, but the `output` argument was produced by a Softmax activation and thus does not represent logits. Was this intended?\n",
      "  output, from_logits = _get_logits(\n"
     ]
    },
    {
     "name": "stdout",
     "output_type": "stream",
     "text": [
      "5/5 [==============================] - 16s 3s/step - loss: 8.7159 - accuracy: 0.5018\n",
      "Epoch 2/10\n",
      "5/5 [==============================] - 15s 3s/step - loss: 0.6444 - accuracy: 0.6753\n",
      "Epoch 3/10\n",
      "5/5 [==============================] - 16s 3s/step - loss: 0.5690 - accuracy: 0.7306\n",
      "Epoch 4/10\n",
      "5/5 [==============================] - 16s 3s/step - loss: 0.5029 - accuracy: 0.6790\n",
      "Epoch 5/10\n",
      "5/5 [==============================] - 15s 3s/step - loss: 0.3581 - accuracy: 0.8672\n",
      "Epoch 6/10\n",
      "5/5 [==============================] - 15s 3s/step - loss: 0.4429 - accuracy: 0.7749\n",
      "Epoch 7/10\n",
      "5/5 [==============================] - 15s 3s/step - loss: 0.2624 - accuracy: 0.8967\n",
      "Epoch 8/10\n",
      "5/5 [==============================] - 15s 3s/step - loss: 0.2373 - accuracy: 0.9262\n",
      "Epoch 9/10\n",
      "5/5 [==============================] - 15s 3s/step - loss: 0.1663 - accuracy: 0.9557\n",
      "Epoch 10/10\n",
      "5/5 [==============================] - 15s 3s/step - loss: 0.1217 - accuracy: 0.9631\n"
     ]
    },
    {
     "data": {
      "text/plain": [
       "<keras.src.callbacks.History at 0x298810220>"
      ]
     },
     "execution_count": 12,
     "metadata": {},
     "output_type": "execute_result"
    }
   ],
   "source": [
    "# Entrenar el modelo\n",
    "modelo.fit(datos_entrenamiento, etiquetas_entrenamiento, epochs=NUM_EPOCHS, batch_size=tamaño_lote)"
   ]
  },
  {
   "cell_type": "code",
   "execution_count": 13,
   "metadata": {},
   "outputs": [
    {
     "name": "stdout",
     "output_type": "stream",
     "text": [
      "3/3 [==============================] - 1s 300ms/step - loss: 6.4674 - accuracy: 0.2647\n",
      "Pérdida: 6.467443943023682\n",
      "Precisión: 0.2647058963775635\n"
     ]
    }
   ],
   "source": [
    "# Evaluar el modelo\n",
    "pérdida, precisión = modelo.evaluate(datos_prueba, etiquetas_prueba)\n",
    "print('Pérdida:', pérdida)\n",
    "print('Precisión:', precisión)\n",
    "\n",
    "# Utilizar el modelo para hacer predicciones\n",
    "#predicciones = modelo.predict(datos_nuevas_imagenes)\n",
    "#etiqueta_predicha = etiquetas_clases[np.argmax(predicciones)]\n",
    "#print('Etiqueta predicha:', etiqueta_predicha)"
   ]
  },
  {
   "cell_type": "code",
   "execution_count": 14,
   "metadata": {},
   "outputs": [
    {
     "name": "stdout",
     "output_type": "stream",
     "text": [
      "etiquetas_entrenamiento data type: <class 'numpy.ndarray'>\n",
      "etiquetas_entrenamiento shape: (271,)\n",
      "etiquetas_prueba data type: <class 'numpy.ndarray'>\n",
      "etiquetas_prueba shape: (68,)\n"
     ]
    }
   ],
   "source": [
    "print(\"etiquetas_entrenamiento data type:\", type(etiquetas_entrenamiento))\n",
    "print(\"etiquetas_entrenamiento shape:\", etiquetas_entrenamiento.shape)\n",
    "\n",
    "print(\"etiquetas_prueba data type:\", type(etiquetas_prueba))\n",
    "print(\"etiquetas_prueba shape:\", etiquetas_prueba.shape)\n"
   ]
  },
  {
   "cell_type": "code",
   "execution_count": 15,
   "metadata": {},
   "outputs": [
    {
     "name": "stdout",
     "output_type": "stream",
     "text": [
      "9/9 [==============================] - 4s 464ms/step\n",
      "F1-Score on Training Data: 0.9772727272727273\n"
     ]
    }
   ],
   "source": [
    "# Generate predictions on the training data\n",
    "y_pred_entrenamiento = modelo.predict(datos_entrenamiento)\n",
    "\n",
    "# Calculate predicted probabilities for the positive class\n",
    "y_pred_entrenamiento_positive_class = y_pred_entrenamiento[:, 1]\n",
    "\n",
    "# Convert predicted probabilities to binary class labels\n",
    "y_pred_entrenamiento_binary = (y_pred_entrenamiento_positive_class > 0.5).astype(int)\n",
    "\n",
    "# Calculate F1-Score for training data\n",
    "f1_train = f1_score(etiquetas_entrenamiento, y_pred_entrenamiento_binary)\n",
    "\n",
    "print('F1-Score on Training Data:', f1_train)"
   ]
  },
  {
   "cell_type": "markdown",
   "metadata": {},
   "source": [
    "Exporting the model"
   ]
  },
  {
   "cell_type": "code",
   "execution_count": 16,
   "metadata": {},
   "outputs": [
    {
     "name": "stderr",
     "output_type": "stream",
     "text": [
      "/opt/homebrew/Caskroom/miniconda/base/envs/dataScience/lib/python3.10/site-packages/keras/src/engine/training.py:3000: UserWarning: You are saving your model as an HDF5 file via `model.save()`. This file format is considered legacy. We recommend using instead the native Keras format, e.g. `model.save('my_model.keras')`.\n",
      "  saving_api.save_model(\n"
     ]
    }
   ],
   "source": [
    "modelo.save('cnn_model.h5')\n",
    "#tfjs.converters.save_keras_model(modelo, './model')"
   ]
  }
 ],
 "metadata": {
  "kernelspec": {
   "display_name": "dataScience",
   "language": "python",
   "name": "python3"
  },
  "language_info": {
   "codemirror_mode": {
    "name": "ipython",
    "version": 3
   },
   "file_extension": ".py",
   "mimetype": "text/x-python",
   "name": "python",
   "nbconvert_exporter": "python",
   "pygments_lexer": "ipython3",
   "version": "3.10.9"
  },
  "orig_nbformat": 4
 },
 "nbformat": 4,
 "nbformat_minor": 2
}
