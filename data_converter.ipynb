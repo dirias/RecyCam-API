{
 "cells": [
  {
   "cell_type": "code",
   "execution_count": 38,
   "metadata": {},
   "outputs": [],
   "source": [
    "import os\n",
    "import csv\n",
    "import shutil\n",
    "\n",
    "calidades = [\n",
    "    { \"name\": \"can/no_acceptable\", \"category\": \"no_aceptable\" },\n",
    "    { \"name\": \"can/acceptable\", \"category\": \"aceptable\" },\n",
    "    { \"name\": \"plastic/no_acceptable\", \"category\": \"no_aceptable\" },\n",
    "    { \"name\": \"plastic/acceptable\", \"category\": \"aceptable\" }\n",
    "]\n",
    "\n",
    "# Crear el archivo CSV si no existe y escribir la cabecera solo una vez\n",
    "csv_header = [\"name\", \"category\"]\n",
    "csv_file = \"./data/working-table.csv\"\n",
    "\n",
    "if not os.path.exists(csv_file):\n",
    "    with open(csv_file, \"w\", newline=\"\") as csvfile:\n",
    "        csv_writer = csv.writer(csvfile)\n",
    "        csv_writer.writerow(csv_header)\n",
    "\n",
    "for calidad in calidades:\n",
    "    # Directorio donde se encuentran las imágenes\n",
    "    directorio_imagenes = \"./data/no_procesadas/{0}\".format(calidad['name'])\n",
    "    directorio_imagenes_procesadas = \"./data/procesadas/{0}\".format(calidad['name'])\n",
    "\n",
    "    # Crear directorio de imágenes procesadas si no existe\n",
    "    if not os.path.exists(directorio_imagenes_procesadas):\n",
    "        os.makedirs(directorio_imagenes_procesadas)\n",
    "\n",
    "    # Obtener lista de nombres de archivo en el directorio\n",
    "    nombres_archivos = os.listdir(directorio_imagenes)\n",
    "\n",
    "    # Función para cambiar el nombre de los archivos y generar CSV\n",
    "    def cambiar_nombre_y_generar_csv():\n",
    "        with open(csv_file, \"a\", newline=\"\") as csvfile:\n",
    "            csv_writer = csv.writer(csvfile)\n",
    "\n",
    "            for i, nombre_archivo in enumerate(nombres_archivos):\n",
    "                nuevo_nombre = f\"imagen_{i+1}.jpg\"\n",
    "                antigua_ruta = os.path.join(directorio_imagenes, nombre_archivo)\n",
    "                nueva_ruta = os.path.join(directorio_imagenes_procesadas, nuevo_nombre)\n",
    "                shutil.copy(antigua_ruta, nueva_ruta)  # Copiar en lugar de mover\n",
    "                csv_writer.writerow([nueva_ruta, calidad['category']])\n",
    "\n",
    "    if __name__ == \"__main__\":\n",
    "        cambiar_nombre_y_generar_csv()\n"
   ]
  }
 ],
 "metadata": {
  "kernelspec": {
   "display_name": "venv",
   "language": "python",
   "name": "python3"
  },
  "language_info": {
   "codemirror_mode": {
    "name": "ipython",
    "version": 3
   },
   "file_extension": ".py",
   "mimetype": "text/x-python",
   "name": "python",
   "nbconvert_exporter": "python",
   "pygments_lexer": "ipython3",
   "version": "3.10.12"
  },
  "orig_nbformat": 4
 },
 "nbformat": 4,
 "nbformat_minor": 2
}
